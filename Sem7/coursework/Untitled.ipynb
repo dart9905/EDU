{
 "cells": [
  {
   "cell_type": "markdown",
   "metadata": {},
   "source": [
    "\n",
    "<p style=\"text-align: center;\"><font size=6>Курсовая работа<Big></font>\n",
    "    \n",
    "<p style=\"text-align: center;\"><font size=5>Формирование контура управления зенитной ракетой.<Big></font>\n",
    "<p style=\"text-align: center;\"><font size=3><i>Хромов Алексей 715а гр.<i><Big></font>"
   ]
  },
  {
   "cell_type": "markdown",
   "metadata": {},
   "source": [
    "Передаточная функция от команды управления к ускорению имеет вид:\n",
    "\n",
    "$$\\begin{aligned}\n",
    "W_\\text{кст}(s)=\\frac{1}{1+2\\xi T_\\text{кст}s+T^2_\\text{кст}s^2},\n",
    "\\end{aligned}$$\n",
    "\n",
    "где $T_\\text{кст}=0,1\\cdot N[\\text{с}]$; $\\xi=0,7$; $N = 8$(номер в журнале).\n",
    "\n",
    "Основной критерий: максимальное быстродейтсвие контура управвления. Требуется определить:\n",
    "\n",
    "1. Принципиальную структурную схему замкнутого контура.\n",
    "2. Передаточные функции разомкнутого и закнутого контуров управления. Астатизм контура. Характеристические частоты.\n",
    "3. Коэффициенты ошибок: $\\text{с}_0$, $\\text{с}_1$, $\\text{с}_2$, $\\text{с}_3$.\n",
    "4. Логарифмические частотные характеристики  разомкнутоого и замкнутого контуров. Запасы по фазе и амплитутде. Частоту среза. Показатель колебтельности.\n",
    "5. Эффективную полосу пропускания.\n",
    "6. Переходный процесс и весовую функцию. Характеристики переходного процесса."
   ]
  },
  {
   "cell_type": "markdown",
   "metadata": {},
   "source": [
    "### 1. Принципиальная структурная схема замкнутого контура.\n",
    "\n",
    "<img src=\"https://raw.githubusercontent.com/dart9905/EDU/master/Sem7/coursework/1.png\" alt=\"https://raw.githubusercontent.com/dart9905/EDU/master/Sem7/coursework/1.png\" width=\"500\">\n",
    "<p style=\"text-align: center;\"><font size=2>Рис. 1. График траектори полёта ракеты от точки старта до точки встречи.<Big></font>"
   ]
  },
  {
   "cell_type": "markdown",
   "metadata": {},
   "source": [
    "$\\overrightarrow{V}_\\text{ц}$ - скорость цели; $\\overrightarrow{V}_\\text{р}$ - скорость ракеты; ТВ - точка встречи.\n",
    "\n",
    "Для составления принципиальной схемы контура, воспользуемся вторым законом Ньютона,то есть функцией упраления(Колебательное звено):\n",
    "\n",
    "$$\\begin{aligned}\n",
    "W_\\text{кст}(s)=\\frac{1}{1+2\\xi T_\\text{кст}s+T^2_\\text{кст}s^2},\n",
    "\\end{aligned}$$\n",
    "\n",
    "и форсирующим звеном:\n",
    "\n",
    "\n",
    "$$\\begin{aligned}\n",
    "W_\\text{фор}(s)=k\\cdot(1+Ts).\n",
    "\\end{aligned}$$\n",
    "\n",
    "Для обратной связи воспользуемся кинематическим звеном с **астатизмом второго порядка**:\n",
    "\n",
    "$$\\begin{aligned}\n",
    "W_\\text{кин}(s)=\\frac{1}{s^2}.\n",
    "\\end{aligned}$$"
   ]
  },
  {
   "cell_type": "markdown",
   "metadata": {},
   "source": [
    "<img src=\"https://raw.githubusercontent.com/dart9905/EDU/master/Sem7/coursework/2.png\" alt=\"https://raw.githubusercontent.com/dart9905/EDU/master/Sem7/coursework/2.png\" width=\"900\">\n",
    "<p style=\"text-align: center;\"><font size=2>Рис. 2. Принципиальная структурная схема замкнутого контура.<Big></font>"
   ]
  },
  {
   "cell_type": "markdown",
   "metadata": {},
   "source": [
    "Для дальнейших вычислений напишим модели наших звеньев:"
   ]
  },
  {
   "cell_type": "code",
   "execution_count": 7,
   "metadata": {},
   "outputs": [],
   "source": [
    "xi = 0.7\n",
    "N = 8\n",
    "T_osc = 0.1 * N\n",
    "\n",
    "def W_osc(s): #oscillating element\n",
    "    return 1/(1+2*xi*T_osc*s+(T_osc**2)*(s**2))\n",
    "\n",
    "def W_forc(s, k, T): #the forcing element\n",
    "    return k*(1+T*s)\n",
    "\n",
    "def W_kin(s): #the kinematic element\n",
    "    return 1/(s**2)"
   ]
  },
  {
   "cell_type": "markdown",
   "metadata": {},
   "source": [
    "### 2. Передаточные функции разомкнутого и закнутого контуров управления. Астатизм контура. Характеристические частоты.\n",
    "\n",
    "По свойствам передаточных функий наша, для разомкнтуого контура, имеет вид:\n",
    "\n",
    "$$\\begin{aligned}\n",
    "W(s)=W_\\text{кст}(s)\\cdot W_\\text{фор}(s)\\cdot W_\\text{кин}(s)=\\frac{1}{1+2\\xi T_\\text{кст}s+T^2_\\text{кст}s^2}\\cdot k\\cdot(1+Ts) \\cdot \\frac{1}{s^2}.\n",
    "\\end{aligned}$$\n",
    "\n",
    "Для замкнутого контура:\n",
    "\n",
    "\n",
    "$$\\begin{aligned}\n",
    "W_k(s)=\\frac{W(s)}{1+W(s)}=\\frac{k(1+Ts)}{k(1+Ts)+s^2+2\\xi T_\\text{кст} s^3+T^2_\\text{кст}s^4}\n",
    "\\end{aligned}$$\n",
    "\n",
    "Из $W_\\text{кин}(s)\\Rightarrow$ **астатизм второго порядка** передаточной функции контура управления.\n",
    "\n",
    "Характеристическая частота: $$\\frac{1}{T_\\text{кин}}$$= 1,25 Гц."
   ]
  },
  {
   "cell_type": "code",
   "execution_count": 9,
   "metadata": {},
   "outputs": [
    {
     "name": "stdout",
     "output_type": "stream",
     "text": [
      "1.25 Hz\n"
     ]
    }
   ],
   "source": [
    "print(1/T_osc, 'Hz')"
   ]
  },
  {
   "cell_type": "code",
   "execution_count": 10,
   "metadata": {},
   "outputs": [],
   "source": [
    "def W(s, k, T):\n",
    "    return W_osc(s)*W_forc(s, k, T)*W_kin(s)\n",
    "\n",
    "def W_(s, k, T):\n",
    "    return W(s, k, T)/(1+W(s, k, T))"
   ]
  },
  {
   "cell_type": "markdown",
   "metadata": {},
   "source": [
    "### 3. Коэффициенты ошибок: $\\text{с}_0$, $\\text{с}_1$, $\\text{с}_2$, $\\text{с}_3$.\n",
    "\n",
    "\n",
    "$$\\begin{aligned}\n",
    "W_{\\Delta\\varepsilon}(s)=\\frac{1}{1+W(s)};\n",
    "\\end{aligned}$$\n",
    "\n",
    "$$\\begin{aligned}\n",
    "\\Delta\\varepsilon(t)=\\int\\limits_0^\\infty K_{\\Delta\\varepsilon}(t)g(t-\\tau)\\,d\\tau;\\qquad\n",
    "W_{\\Delta\\varepsilon}(s)=\\int\\limits_0^\\infty K_{\\Delta\\varepsilon}(t)e^{-st}\\,dt;\n",
    "\\end{aligned}$$\n",
    " \n",
    "$$g(t-\\tau)=g(t)-\\dot{g}(t)\\tau+\\frac1{2!}\\ddot{g}(t)\\tau^2;$$.\n",
    "\n",
    "$$\\Delta\\varepsilon(t)=g(t)\\int\\limits_0^\\infty K_{\\Delta\\varepsilon}(\\tau)\\,d\\tau\n",
    "-\\dot{g}(t)\\int\\limits_0^\\infty K_{\\Delta\\varepsilon}(\\tau)\\tau\\,d\\tau\n",
    "+\\frac1{2!}\\ddot{g}(t)\\int\\limits_0^\\infty K_{\\Delta\\varepsilon}(\\tau)\\tau^2\\,d\\tau=\n",
    "C_1g(t)+C_2\\dot{g}(t)-\\frac{C_3}{2!}\\ddot{g}(t);$$\n",
    "\n",
    "$$C_0=W_{\\Delta\\varepsilon}(s)\\bigg|_{s=0}=\\frac{1}{1+W(s)}\\bigg|_{s=0}=0;$$\n",
    "\n",
    "\n",
    "\n",
    "$$C_1=\\frac{d W_{\\Delta\\varepsilon}(s)}{d s}\\bigg|_{s=0}=-\\frac{1}{(1+W(s))^2}\\cdot\\frac{dW_{\\Delta\\varepsilon}(s)}{ds}\\bigg|_{s=0}=0;$$.\n",
    "\n",
    "То что $C_0=C_1=0$ следствие обратной интегральной связи, астатизма второго порядка.\n",
    "\n",
    "$$C_2=\\frac{d^2 W_{\\Delta\\varepsilon}(s)}{d s^2}\\bigg|_{s=0}=\\frac2k$$\n",
    "\n",
    "$$C_3=\\frac{d^3 W_{\\Delta\\varepsilon}(s)}{d s^3}\\bigg|_{s=0}=\\frac{2\\xi T_\\text{кст}-2T}{k}$$\n",
    "\n",
    "Из пункта 4, где мы нашли $T$ и $k$:\n",
    "\n",
    "$C_2 = $"
   ]
  },
  {
   "cell_type": "code",
   "execution_count": null,
   "metadata": {},
   "outputs": [],
   "source": [
    "'''\n",
    "Warning: run the code only after finding the required values!!!\n",
    "'''\n",
    "print('C_2 = ', 2/k)"
   ]
  },
  {
   "cell_type": "markdown",
   "metadata": {},
   "source": [
    "$C_3 = $"
   ]
  },
  {
   "cell_type": "code",
   "execution_count": null,
   "metadata": {},
   "outputs": [],
   "source": [
    "'''\n",
    "Warning: run the code only after finding the required values!!!\n",
    "'''\n",
    "print('C_3 = ', (2*xi*T_osc-2*T)/k)"
   ]
  },
  {
   "cell_type": "markdown",
   "metadata": {},
   "source": [
    "### 4. Логарифмические частотные характеристики  разомкнутоого и замкнутого контуров. Запасы по фазе и амплитутде. Частоту среза. Показатель колебтельности."
   ]
  }
 ],
 "metadata": {
  "kernelspec": {
   "display_name": "Python 3",
   "language": "python",
   "name": "python3"
  },
  "language_info": {
   "codemirror_mode": {
    "name": "ipython",
    "version": 3
   },
   "file_extension": ".py",
   "mimetype": "text/x-python",
   "name": "python",
   "nbconvert_exporter": "python",
   "pygments_lexer": "ipython3",
   "version": "3.8.3"
  }
 },
 "nbformat": 4,
 "nbformat_minor": 4
}
