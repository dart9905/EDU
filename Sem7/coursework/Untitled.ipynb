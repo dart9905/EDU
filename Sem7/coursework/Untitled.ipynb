{
 "cells": [
  {
   "cell_type": "markdown",
   "metadata": {},
   "source": [
    "\n",
    "<p style=\"text-align: center;\"><font size=6>Курсовая работа<Big></font>\n",
    "    \n",
    "<p style=\"text-align: center;\"><font size=5>Формирование контура управления зенитной ракетой.<Big></font>\n",
    "<p style=\"text-align: center;\"><font size=3><i>Хромов Алексей 715а гр.<i><Big></font>"
   ]
  },
  {
   "cell_type": "markdown",
   "metadata": {},
   "source": [
    "Передаточная функция от команды управления к ускорению имеет вид:\n",
    "\n",
    "$$\\begin{aligned}\n",
    "W_\\text{кст}(s)=\\frac{1}{1+2\\xi T_\\text{кст}s+T^2_\\text{кст}s^2},\n",
    "\\end{aligned}$$\n",
    "\n",
    "где $T_\\text{кст}=0,1\\cdot N[\\text{с}]$; $\\xi=0,7$; $N = 8$(номер в журнале).\n",
    "\n",
    "Основной критерий: максимальное быстродейтсвие контура управвления. Требуется определить:\n",
    "\n",
    "1. Принципиальную структурную схему замкнутого контура.\n",
    "2. Передаточные функции разомкнутого и закнутого контуров управления. Астатизм контура. Характеристические частоты.\n",
    "3. Коэффициенты ошибок: $\\text{с}_0$, $\\text{с}_1$, $\\text{с}_2$, $\\text{с}_3$.\n",
    "4. Логарифмические частотные характеристики  разомкнутоого и замкнутого контуров. Запасы по фазе и амплитутде. Частоту среза. Показатель колебтельности.\n",
    "5. Эффективную полосу пропускания.\n",
    "6. Переходный процесс и весовую функцию. Характеристики переходного процесса."
   ]
  },
  {
   "cell_type": "markdown",
   "metadata": {},
   "source": [
    "### 1. Принципиальная структурная схема замкнутого контура.\n",
    "\n",
    "<img src=\"https://raw.githubusercontent.com/dart9905/EDU/master/Sem7/coursework/1.png\" alt=\"https://raw.githubusercontent.com/dart9905/EDU/master/Sem7/coursework/1.png\" width=\"500\">\n",
    "<p style=\"text-align: center;\"><font size=2>Рис. 1. График траектори полёта ракеты от точки старта до точки встречи.<Big></font>"
   ]
  },
  {
   "cell_type": "markdown",
   "metadata": {},
   "source": [
    "$\\overrightarrow{V}_\\text{ц}$ - скорость цели; $\\overrightarrow{V}_\\text{р}$ - скорость ракеты; ТВ - точка встречи.\n",
    "\n",
    "Для составления принципиальной схемы контура, воспользуемся вторым законом Ньютона,то есть функцией упраления(Колебательное звено):\n",
    "\n",
    "$$\\begin{aligned}\n",
    "W_\\text{кст}(s)=\\frac{1}{1+2\\xi T_\\text{кст}s+T^2_\\text{кст}s^2},\n",
    "\\end{aligned}$$\n",
    "\n",
    "и форсирующим звеном:\n",
    "\n",
    "\n",
    "$$\\begin{aligned}\n",
    "W_\\text{фор}(s)=k\\cdot(1+Ts).\n",
    "\\end{aligned}$$\n",
    "\n",
    "Для обратной связи воспользуемся кинематическим звеном с астатизмом второго порядка:\n",
    "\n",
    "$$\\begin{aligned}\n",
    "W_\\text{кин}(s)=\\frac{1}{s^2}.\n",
    "\\end{aligned}$$"
   ]
  },
  {
   "cell_type": "code",
   "execution_count": null,
   "metadata": {},
   "outputs": [],
   "source": []
  }
 ],
 "metadata": {
  "kernelspec": {
   "display_name": "Python 3",
   "language": "python",
   "name": "python3"
  },
  "language_info": {
   "codemirror_mode": {
    "name": "ipython",
    "version": 3
   },
   "file_extension": ".py",
   "mimetype": "text/x-python",
   "name": "python",
   "nbconvert_exporter": "python",
   "pygments_lexer": "ipython3",
   "version": "3.8.3"
  }
 },
 "nbformat": 4,
 "nbformat_minor": 4
}
