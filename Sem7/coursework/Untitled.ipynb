{
 "cells": [
  {
   "cell_type": "markdown",
   "metadata": {},
   "source": [
    "\n",
    "<p style=\"text-align: center;\"><font size=6>Курсовая работа<Big></font>\n",
    "    \n",
    "<p style=\"text-align: center;\"><font size=5>Формирование контура управления зенитной ракетой.<Big></font>\n",
    "<p style=\"text-align: center;\"><font size=3><i>Хромов Алексей 715а гр.<i><Big></font>"
   ]
  },
  {
   "cell_type": "markdown",
   "metadata": {},
   "source": [
    "Передаточная функция от команды управления к ускорению имеет вид:\n",
    "\n",
    "$$\\begin{aligned}\n",
    "W_\\text{кст}(s)=\\frac{1}{1+2\\xi T_\\text{кст}s+T^2_\\text{кст}s^2},\n",
    "\\end{aligned}$$\n",
    "\n",
    "где $T_\\text{кст}=0,1\\cdot N[\\text{с}]$; $\\xi=0,7$; $N = 8$(номер в журнале).\n",
    "\n",
    "Основной критерий: максимальное быстродейтсвие контура управвления. Требуется определить:\n",
    "\n",
    "1. Принципиальную структурную схему замкнутого контура.\n",
    "2. Передаточные функции разомкнутого и закнутого контуров управления. Астатизм контура. Характеристические частоты.\n",
    "3. Коэффициенты ошибок: $\\text{с}_0$, $\\text{с}_1$, $\\text{с}_2$, $\\text{с}_3$.\n",
    "4. Логарифмические частотные характеристики  разомкнутоого и замкнутого контуров. Запасы по фазе и амплитутде. Частоту среза. Показатель колебтельности.\n",
    "5. Эффективную полосу пропускания.\n",
    "6. Переходный процесс и весовую функцию. Характеристики переходного процесса."
   ]
  },
  {
   "cell_type": "markdown",
   "metadata": {},
   "source": [
    "### 1. Принципиальная структурная схема замкнутого контура.\n",
    "\n",
    "<img src=\"file:///Users/alexkhromov/Git/EDU/Sem7/coursework/1.png\">\n",
    "\n",
    "\n",
    "![Альтернативный текст](file:///Users/alexkhromov/Git/EDU/Sem7/coursework/1.png \"Подсказка\")"
   ]
  },
  {
   "cell_type": "code",
   "execution_count": null,
   "metadata": {},
   "outputs": [],
   "source": []
  }
 ],
 "metadata": {
  "kernelspec": {
   "display_name": "Python 3",
   "language": "python",
   "name": "python3"
  },
  "language_info": {
   "codemirror_mode": {
    "name": "ipython",
    "version": 3
   },
   "file_extension": ".py",
   "mimetype": "text/x-python",
   "name": "python",
   "nbconvert_exporter": "python",
   "pygments_lexer": "ipython3",
   "version": "3.8.3"
  }
 },
 "nbformat": 4,
 "nbformat_minor": 4
}
